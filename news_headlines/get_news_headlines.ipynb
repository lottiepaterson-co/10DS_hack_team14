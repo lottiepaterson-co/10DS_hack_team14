{
 "cells": [
  {
   "cell_type": "code",
   "execution_count": null,
   "metadata": {},
   "outputs": [],
   "source": [
    "#import relevant packages\n",
    "import json\n",
    "from urllib.request import urlopen\n",
    "import pandas as pd\n",
    "import plotly.graph_objs as go\n",
    "import requests\n",
    "\n",
    "def get_national_news_headlines(time_frame):\n",
    "#timeframe should be 1h or 24h, default is 1h\n",
    "\n",
    "    #set the parametres and set up API key for the newscatcher API\n",
    "    url = 'https://v3-api.newscatcherapi.com/api/latest_headlines?'\n",
    "    #themes = ['Business', 'Economics', 'Finance', 'Health', 'Politics', 'Science', 'Tech', 'Crime', 'General']\n",
    "    themes = ['Health, Business, Finance, Economics, Politics, Crime, Science, Tech, General, Travel']\n",
    "    params = { 'q': '*','lang': 'en', 'countries': 'GB', 'when':'1h', 'page_size': 100, 'sort_by': 'relevancy', 'is_headline': True, 'ranked_only': True, 'clustering_enabled': False, 'theme': themes, 'sources':'bbc.co.uk, theguardian.com, telegraph.co.uk, times.co.uk, dailymail.co.uk, standard.co.uk, metro.co.uk, mirror.co.uk, sundaytimes.co.uk'}\n",
    "    params['when']= time_frame\n",
    "    headers = {'x-api-token': '0OV147hPPeTT6S1vpRWiYvN4nDvsa1EN'}\n",
    "    #Call the API to generate clusters of UK news headlines from the past hour from national newspapers\n",
    "    response = requests.get(url, params=params, headers=headers)\n",
    "\n",
    "    #Manipulate the results to produce a dataframe showing the title of articles in each cluster, the content of the articles and their sources.\n",
    "    data = response.json()\n",
    "    total_pages = data['total_pages']\n",
    "    current_page = 1\n",
    "    compiled_headlines = []\n",
    "    while current_page < total_pages + 1:\n",
    "        if current_page > 1:\n",
    "            params['page'] = current_page\n",
    "            response = requests.get(url, params=params, headers=headers)\n",
    "            data = response.json()\n",
    "        for article in data['articles']:\n",
    "                compiled_headlines.append([article['title'], article['name_source'], article['content']])\n",
    "        current_page = current_page +1\n",
    "\n",
    "    df = pd.DataFrame(compiled_headlines)\n",
    "    df.columns = ['Title', 'Source', 'Content']\n",
    "    return(df)\n",
    "\n",
    "df = get_national_news_headlines('1h')\n",
    "df"
   ]
  }
 ],
 "metadata": {
  "language_info": {
   "name": "python"
  }
 },
 "nbformat": 4,
 "nbformat_minor": 2
}
